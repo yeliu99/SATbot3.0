{
 "cells": [
  {
   "cell_type": "code",
   "execution_count": 8,
   "metadata": {},
   "outputs": [],
   "source": [
    "import pandas as pd\n",
    "user_rewrite = pd.read_csv(\"/Users/yeliu/IC/Individual_Project/code/sat3.0/data/user_rewritings.csv\", header=None,)"
   ]
  },
  {
   "cell_type": "code",
   "execution_count": 16,
   "metadata": {},
   "outputs": [],
   "source": [
    "from transformers import AutoTokenizer, AutoModelForSeq2SeqLM"
   ]
  },
  {
   "cell_type": "code",
   "execution_count": 17,
   "metadata": {},
   "outputs": [],
   "source": [
    "class ParaphraseMachine:\n",
    "    def __init__(self):\n",
    "        self.tokenizer = AutoTokenizer.from_pretrained(\"Vamsi/T5_Paraphrase_Paws\")  \n",
    "        self.model = AutoModelForSeq2SeqLM.from_pretrained(\"Vamsi/T5_Paraphrase_Paws\", force_download=True)\n",
    "\n",
    "        self.device = torch.device(\"cuda\" if torch.cuda.is_available() else \"cpu\")\n",
    "        self.model = self.model.to(self.device)\n",
    "        \n",
    "\n",
    "    def paraphrase(self, input_sentence, num_of_sentences = 1):\n",
    "        #encoding = self.tokenizer.encode_plus(input_sentence, padding=True, return_tensors=\"pt\")\n",
    "        encoding = self.tokenizer(input_sentence, padding=True, return_tensors=\"pt\")\n",
    "        \n",
    "        input_ids, attention_masks = encoding[\"input_ids\"].to(self.device), encoding[\"attention_mask\"].to(self.device)\n",
    "\n",
    "\n",
    "        outputs = self.model.generate(\n",
    "            input_ids=input_ids, attention_mask=attention_masks,\n",
    "            max_length=256,\n",
    "            do_sample=True,\n",
    "            top_k=120,\n",
    "            top_p=0.95,\n",
    "            early_stopping=True,\n",
    "            repetition_penalty= 1.5, # adjust this as we see fit to avoid repetition in sentences\n",
    "            num_return_sequences=num_of_sentences\n",
    "        )\n",
    "\n",
    "        result = []\n",
    "        for i, output in enumerate(outputs):\n",
    "            output_list = \"\"\n",
    "            decoded_sentence = self.tokenizer.decode(output, skip_special_tokens=True, clean_up_tokenization_spaces=True)\n",
    "            output_list = output_list + decoded_sentence + \" \"\n",
    "            result.append(output_list)\n",
    "        return result\n"
   ]
  },
  {
   "cell_type": "code",
   "execution_count": 18,
   "metadata": {},
   "outputs": [
    {
     "data": {
      "application/vnd.jupyter.widget-view+json": {
       "model_id": "13f2086a41b943518ab51734154561b6",
       "version_major": 2,
       "version_minor": 0
      },
      "text/plain": [
       "Downloading tokenizer_config.json:   0%|          | 0.00/25.0 [00:00<?, ?B/s]"
      ]
     },
     "metadata": {},
     "output_type": "display_data"
    },
    {
     "data": {
      "application/vnd.jupyter.widget-view+json": {
       "model_id": "87192b44f77f4e468abe1814b410676c",
       "version_major": 2,
       "version_minor": 0
      },
      "text/plain": [
       "Downloading config.json:   0%|          | 0.00/1.18k [00:00<?, ?B/s]"
      ]
     },
     "metadata": {},
     "output_type": "display_data"
    },
    {
     "data": {
      "application/vnd.jupyter.widget-view+json": {
       "model_id": "4161a770a52144aa94f9b42578b7de40",
       "version_major": 2,
       "version_minor": 0
      },
      "text/plain": [
       "Downloading spiece.model:   0%|          | 0.00/773k [00:00<?, ?B/s]"
      ]
     },
     "metadata": {},
     "output_type": "display_data"
    },
    {
     "data": {
      "application/vnd.jupyter.widget-view+json": {
       "model_id": "846e37b71e42418c840cee7f203ed386",
       "version_major": 2,
       "version_minor": 0
      },
      "text/plain": [
       "Downloading special_tokens_map.json:   0%|          | 0.00/1.74k [00:00<?, ?B/s]"
      ]
     },
     "metadata": {},
     "output_type": "display_data"
    },
    {
     "data": {
      "application/vnd.jupyter.widget-view+json": {
       "model_id": "2f30ac2614074bbd8d0842e15c18f6bc",
       "version_major": 2,
       "version_minor": 0
      },
      "text/plain": [
       "Downloading config.json:   0%|          | 0.00/1.18k [00:00<?, ?B/s]"
      ]
     },
     "metadata": {},
     "output_type": "display_data"
    },
    {
     "data": {
      "application/vnd.jupyter.widget-view+json": {
       "model_id": "d6894175273f4bc2acc96a4a85728e22",
       "version_major": 2,
       "version_minor": 0
      },
      "text/plain": [
       "Downloading pytorch_model.bin:   0%|          | 0.00/850M [00:00<?, ?B/s]"
      ]
     },
     "metadata": {},
     "output_type": "display_data"
    }
   ],
   "source": [
    "pm = ParaphraseMachine()\n",
    "\n",
    "paraphrase = []\n",
    "for i in range(len(user_rewrite[0])):\n",
    "    input_sentence = user_rewrite[0][i]\n",
    "    generated_sentence = pm.paraphrase(input_sentence, num_of_sentences=1)\n",
    "    paraphrase.append(generated_sentence)"
   ]
  },
  {
   "cell_type": "code",
   "execution_count": 19,
   "metadata": {},
   "outputs": [],
   "source": [
    "user_rewrite['paraphrased'] = paraphrase\n",
    "user_rewrite.columns = ['utterance', 'paraphrased']\n",
    "user_rewrite.to_csv(\"/Users/yeliu/IC/Individual_Project/code/sat3.0/data/t5_paraphrased.csv\", index=False)"
   ]
  },
  {
   "cell_type": "code",
   "execution_count": null,
   "metadata": {},
   "outputs": [],
   "source": []
  }
 ],
 "metadata": {
  "kernelspec": {
   "display_name": "Python 3 (ipykernel)",
   "language": "python",
   "name": "python3"
  },
  "language_info": {
   "codemirror_mode": {
    "name": "ipython",
    "version": 3
   },
   "file_extension": ".py",
   "mimetype": "text/x-python",
   "name": "python",
   "nbconvert_exporter": "python",
   "pygments_lexer": "ipython3",
   "version": "3.8.13"
  }
 },
 "nbformat": 4,
 "nbformat_minor": 1
}
