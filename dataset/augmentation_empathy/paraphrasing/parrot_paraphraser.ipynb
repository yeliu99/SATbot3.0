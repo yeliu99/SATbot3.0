{
 "cells": [
  {
   "cell_type": "code",
   "execution_count": null,
   "metadata": {
    "collapsed": true
   },
   "outputs": [],
   "source": [
    "import pandas as pd\n",
    "user_rewrite = pd.read_csv(\"drive/MyDrive/user_rewritings.csv\", header=None,)"
   ]
  },
  {
   "cell_type": "code",
   "execution_count": 2,
   "metadata": {},
   "outputs": [
    {
     "name": "stdout",
     "output_type": "stream",
     "text": [
      "Collecting git+https://github.com/PrithivirajDamodaran/Parrot_Paraphraser.git\n",
      "  Cloning https://github.com/PrithivirajDamodaran/Parrot_Paraphraser.git to /private/var/folders/zv/q0x0b2h94dl34wfd3yb89h4m0000gn/T/pip-req-build-tmnbsrxn\n",
      "  Running command git clone --filter=blob:none --quiet https://github.com/PrithivirajDamodaran/Parrot_Paraphraser.git /private/var/folders/zv/q0x0b2h94dl34wfd3yb89h4m0000gn/T/pip-req-build-tmnbsrxn\n",
      "  Resolved https://github.com/PrithivirajDamodaran/Parrot_Paraphraser.git to commit 2cffbe911341e52dc73b77f9b0154c18d570603f\n",
      "  Preparing metadata (setup.py) ... \u001b[?25ldone\n",
      "\u001b[?25hRequirement already satisfied: transformers in /Users/yeliu/opt/anaconda3/envs/sat2/lib/python3.8/site-packages (from parrot==1.0) (4.22.0.dev0)\n",
      "Requirement already satisfied: sentencepiece in /Users/yeliu/opt/anaconda3/envs/sat2/lib/python3.8/site-packages (from parrot==1.0) (0.1.96)\n",
      "Collecting python-Levenshtein\n",
      "  Downloading python-Levenshtein-0.12.2.tar.gz (50 kB)\n",
      "\u001b[2K     \u001b[90m━━━━━━━━━━━━━━━━━━━━━━━━━━━━━━━━━━━━━━━\u001b[0m \u001b[32m50.5/50.5 kB\u001b[0m \u001b[31m729.9 kB/s\u001b[0m eta \u001b[36m0:00:00\u001b[0m \u001b[36m0:00:01\u001b[0m\n",
      "\u001b[?25h  Preparing metadata (setup.py) ... \u001b[?25ldone\n",
      "\u001b[?25hRequirement already satisfied: sentence-transformers in /Users/yeliu/opt/anaconda3/envs/sat2/lib/python3.8/site-packages (from parrot==1.0) (2.2.2)\n",
      "Collecting fuzzywuzzy\n",
      "  Downloading fuzzywuzzy-0.18.0-py2.py3-none-any.whl (18 kB)\n",
      "Requirement already satisfied: setuptools in /Users/yeliu/opt/anaconda3/envs/sat2/lib/python3.8/site-packages (from python-Levenshtein->parrot==1.0) (61.2.0)\n",
      "Requirement already satisfied: huggingface-hub>=0.4.0 in /Users/yeliu/opt/anaconda3/envs/sat2/lib/python3.8/site-packages (from sentence-transformers->parrot==1.0) (0.8.1)\n",
      "Requirement already satisfied: torchvision in /Users/yeliu/opt/anaconda3/envs/sat2/lib/python3.8/site-packages (from sentence-transformers->parrot==1.0) (0.13.1)\n",
      "Requirement already satisfied: scikit-learn in /Users/yeliu/opt/anaconda3/envs/sat2/lib/python3.8/site-packages (from sentence-transformers->parrot==1.0) (1.1.1)\n",
      "Requirement already satisfied: nltk in /Users/yeliu/opt/anaconda3/envs/sat2/lib/python3.8/site-packages (from sentence-transformers->parrot==1.0) (3.6.4)\n",
      "Requirement already satisfied: numpy in /Users/yeliu/opt/anaconda3/envs/sat2/lib/python3.8/site-packages (from sentence-transformers->parrot==1.0) (1.23.1)\n",
      "Requirement already satisfied: scipy in /Users/yeliu/opt/anaconda3/envs/sat2/lib/python3.8/site-packages (from sentence-transformers->parrot==1.0) (1.9.0)\n",
      "Requirement already satisfied: tqdm in /Users/yeliu/opt/anaconda3/envs/sat2/lib/python3.8/site-packages (from sentence-transformers->parrot==1.0) (4.64.0)\n",
      "Requirement already satisfied: torch>=1.6.0 in /Users/yeliu/opt/anaconda3/envs/sat2/lib/python3.8/site-packages (from sentence-transformers->parrot==1.0) (1.12.1)\n",
      "Requirement already satisfied: packaging>=20.0 in /Users/yeliu/opt/anaconda3/envs/sat2/lib/python3.8/site-packages (from transformers->parrot==1.0) (21.3)\n",
      "Requirement already satisfied: regex!=2019.12.17 in /Users/yeliu/opt/anaconda3/envs/sat2/lib/python3.8/site-packages (from transformers->parrot==1.0) (2022.7.9)\n",
      "Requirement already satisfied: tokenizers!=0.11.3,<0.13,>=0.11.1 in /Users/yeliu/opt/anaconda3/envs/sat2/lib/python3.8/site-packages (from transformers->parrot==1.0) (0.12.1)\n",
      "Requirement already satisfied: requests in /Users/yeliu/opt/anaconda3/envs/sat2/lib/python3.8/site-packages (from transformers->parrot==1.0) (2.28.1)\n",
      "Requirement already satisfied: pyyaml>=5.1 in /Users/yeliu/opt/anaconda3/envs/sat2/lib/python3.8/site-packages (from transformers->parrot==1.0) (6.0)\n",
      "Requirement already satisfied: filelock in /Users/yeliu/opt/anaconda3/envs/sat2/lib/python3.8/site-packages (from transformers->parrot==1.0) (3.7.1)\n",
      "Requirement already satisfied: typing-extensions>=3.7.4.3 in /Users/yeliu/opt/anaconda3/envs/sat2/lib/python3.8/site-packages (from huggingface-hub>=0.4.0->sentence-transformers->parrot==1.0) (4.3.0)\n",
      "Requirement already satisfied: pyparsing!=3.0.5,>=2.0.2 in /Users/yeliu/opt/anaconda3/envs/sat2/lib/python3.8/site-packages (from packaging>=20.0->transformers->parrot==1.0) (3.0.4)\n",
      "Requirement already satisfied: click in /Users/yeliu/opt/anaconda3/envs/sat2/lib/python3.8/site-packages (from nltk->sentence-transformers->parrot==1.0) (8.0.4)\n",
      "Requirement already satisfied: joblib in /Users/yeliu/opt/anaconda3/envs/sat2/lib/python3.8/site-packages (from nltk->sentence-transformers->parrot==1.0) (1.1.0)\n",
      "Requirement already satisfied: idna<4,>=2.5 in /Users/yeliu/opt/anaconda3/envs/sat2/lib/python3.8/site-packages (from requests->transformers->parrot==1.0) (3.3)\n",
      "Requirement already satisfied: urllib3<1.27,>=1.21.1 in /Users/yeliu/opt/anaconda3/envs/sat2/lib/python3.8/site-packages (from requests->transformers->parrot==1.0) (1.26.11)\n",
      "Requirement already satisfied: charset-normalizer<3,>=2 in /Users/yeliu/opt/anaconda3/envs/sat2/lib/python3.8/site-packages (from requests->transformers->parrot==1.0) (2.1.0)\n",
      "Requirement already satisfied: certifi>=2017.4.17 in /Users/yeliu/opt/anaconda3/envs/sat2/lib/python3.8/site-packages (from requests->transformers->parrot==1.0) (2022.6.15)\n",
      "Requirement already satisfied: threadpoolctl>=2.0.0 in /Users/yeliu/opt/anaconda3/envs/sat2/lib/python3.8/site-packages (from scikit-learn->sentence-transformers->parrot==1.0) (3.1.0)\n",
      "Requirement already satisfied: pillow!=8.3.*,>=5.3.0 in /Users/yeliu/opt/anaconda3/envs/sat2/lib/python3.8/site-packages (from torchvision->sentence-transformers->parrot==1.0) (9.2.0)\n",
      "Building wheels for collected packages: parrot, python-Levenshtein\n",
      "  Building wheel for parrot (setup.py) ... \u001b[?25ldone\n",
      "\u001b[?25h  Created wheel for parrot: filename=parrot-1.0-py3-none-any.whl size=8602 sha256=611aa354883bdba8da9d8eb769735b809fe9e7b809c1808a4010a1df054d24e4\n",
      "  Stored in directory: /private/var/folders/zv/q0x0b2h94dl34wfd3yb89h4m0000gn/T/pip-ephem-wheel-cache-cupvb_9e/wheels/2f/4d/b1/05ff6a0b94ee4667ff640602c0a685d4a0bf85e4286ffb44ae\n",
      "  Building wheel for python-Levenshtein (setup.py) ... \u001b[?25ldone\n",
      "\u001b[?25h  Created wheel for python-Levenshtein: filename=python_Levenshtein-0.12.2-cp38-cp38-macosx_10_9_x86_64.whl size=80728 sha256=482b5e447ab0d6f43e1d6bd201e018f623ef2476bff2d4d1008f85cfeccb1908\n",
      "  Stored in directory: /Users/yeliu/Library/Caches/pip/wheels/d7/0c/76/042b46eb0df65c3ccd0338f791210c55ab79d209bcc269e2c7\n",
      "Successfully built parrot python-Levenshtein\n",
      "Installing collected packages: fuzzywuzzy, python-Levenshtein, parrot\n",
      "Successfully installed fuzzywuzzy-0.18.0 parrot-1.0 python-Levenshtein-0.12.2\n"
     ]
    }
   ],
   "source": [
    "!pip install git+https://github.com/PrithivirajDamodaran/Parrot_Paraphraser.git"
   ]
  },
  {
   "cell_type": "code",
   "execution_count": null,
   "metadata": {},
   "outputs": [
    {
     "data": {
      "application/vnd.jupyter.widget-view+json": {
       "model_id": "d11bb8c506354c2cb022808a6786e56a",
       "version_major": 2,
       "version_minor": 0
      },
      "text/plain": [
       "Downloading tokenizer_config.json:   0%|          | 0.00/1.84k [00:00<?, ?B/s]"
      ]
     },
     "metadata": {},
     "output_type": "display_data"
    },
    {
     "data": {
      "application/vnd.jupyter.widget-view+json": {
       "model_id": "9e36366624fc4dddba17352bbb7254f5",
       "version_major": 2,
       "version_minor": 0
      },
      "text/plain": [
       "Downloading config.json:   0%|          | 0.00/1.34k [00:00<?, ?B/s]"
      ]
     },
     "metadata": {},
     "output_type": "display_data"
    },
    {
     "data": {
      "application/vnd.jupyter.widget-view+json": {
       "model_id": "d9961a3a020b404193405ba582004eff",
       "version_major": 2,
       "version_minor": 0
      },
      "text/plain": [
       "Downloading spiece.model:   0%|          | 0.00/773k [00:00<?, ?B/s]"
      ]
     },
     "metadata": {},
     "output_type": "display_data"
    },
    {
     "data": {
      "application/vnd.jupyter.widget-view+json": {
       "model_id": "fe1060fd847d42d0af19b0ce58666853",
       "version_major": 2,
       "version_minor": 0
      },
      "text/plain": [
       "Downloading special_tokens_map.json:   0%|          | 0.00/1.74k [00:00<?, ?B/s]"
      ]
     },
     "metadata": {},
     "output_type": "display_data"
    },
    {
     "data": {
      "application/vnd.jupyter.widget-view+json": {
       "model_id": "ff7e145912a44dd3b69455389f1f3e50",
       "version_major": 2,
       "version_minor": 0
      },
      "text/plain": [
       "Downloading pytorch_model.bin:   0%|          | 0.00/850M [00:00<?, ?B/s]"
      ]
     },
     "metadata": {},
     "output_type": "display_data"
    }
   ],
   "source": [
    "from parrot import Parrot\n",
    "parrot = Parrot()"
   ]
  },
  {
   "cell_type": "code",
   "execution_count": null,
   "metadata": {},
   "outputs": [],
   "source": [
    "from parrot import Parrot\n",
    "\n",
    "parrot = Parrot()\n",
    "\n",
    "phrases = [\n",
    "  \"One of the best ways to learn is to teach what you've already learned\",\n",
    "  \"Paraphrasing is the process of coming up with someone else's ideas in your own words\"\n",
    "]\n",
    "\n",
    "for phrase in phrases:\n",
    "  print(\"-\"*100)\n",
    "  print(\"Input_phrase: \", phrase)\n",
    "  print(\"-\"*100)\n",
    "  paraphrases = parrot.augment(input_phrase=phrase)\n",
    "  for paraphrase in paraphrases:\n",
    "   print(paraphrase)"
   ]
  },
  {
   "cell_type": "code",
   "execution_count": null,
   "metadata": {},
   "outputs": [],
   "source": []
  }
 ],
 "metadata": {
  "kernelspec": {
   "display_name": "Python 3 (ipykernel)",
   "language": "python",
   "name": "python3"
  },
  "language_info": {
   "codemirror_mode": {
    "name": "ipython",
    "version": 3
   },
   "file_extension": ".py",
   "mimetype": "text/x-python",
   "name": "python",
   "nbconvert_exporter": "python",
   "pygments_lexer": "ipython3",
   "version": "3.8.13"
  }
 },
 "nbformat": 4,
 "nbformat_minor": 1
}
